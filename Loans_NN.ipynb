{
 "cells": [
  {
   "cell_type": "code",
   "execution_count": 23,
   "metadata": {},
   "outputs": [],
   "source": [
    "import numpy as np\n",
    "import pandas as pd\n",
    "import os\n",
    "from sklearn.preprocessing import LabelBinarizer\n",
    "from sklearn.preprocessing import minmax_scale\n",
    "from sklearn.model_selection import train_test_split\n",
    "from keras.models import Sequential\n",
    "from keras.layers.core import Activation\n",
    "from keras.layers.core import Dense\n",
    "from keras import optimizers\n",
    "from sklearn.metrics import confusion_matrix\n",
    "from sklearn.metrics import precision_score, recall_score, classification_report, accuracy_score, f1_score"
   ]
  },
  {
   "cell_type": "code",
   "execution_count": 2,
   "metadata": {},
   "outputs": [],
   "source": [
    "loans = pd.read_csv('loans.csv')\n",
    "loans = loans.drop(['id'], axis = 1)\n",
    "loans_dropna = loans.dropna(subset = ['emplength','annualinc','delinq2yrs','inqlast6mths','openacc','revolutil','totalacc'])\n",
    "loans_dropna = loans_dropna.astype({\"creditpolicy\":'object'})"
   ]
  },
  {
   "cell_type": "code",
   "execution_count": 3,
   "metadata": {},
   "outputs": [
    {
     "data": {
      "text/plain": [
       "Index(['loanamnt', 'intrate', 'installment', 'annualinc', 'targetloanstatus',\n",
       "       'dti', 'delinq2yrs', 'inqlast6mths', 'openacc', 'revolbal', 'revolutil',\n",
       "       'totalacc', 'creditpolicy_1', 'term_ 60 months', 'grade_B', 'grade_C',\n",
       "       'grade_D', 'grade_E', 'grade_F', 'grade_G', 'emplength_10+ years',\n",
       "       'emplength_2 years', 'emplength_3 years', 'emplength_4 years',\n",
       "       'emplength_5 years', 'emplength_6 years', 'emplength_7 years',\n",
       "       'emplength_8 years', 'emplength_9 years', 'emplength_< 1 year',\n",
       "       'homeownership_NONE', 'homeownership_OTHER', 'homeownership_OWN',\n",
       "       'homeownership_RENT', 'purpose_credit_card',\n",
       "       'purpose_debt_consolidation', 'purpose_educational',\n",
       "       'purpose_home_improvement', 'purpose_house', 'purpose_major_purchase',\n",
       "       'purpose_medical', 'purpose_moving', 'purpose_other',\n",
       "       'purpose_renewable_energy', 'purpose_small_business',\n",
       "       'purpose_vacation', 'purpose_wedding',\n",
       "       'verificationstatus_Source Verified', 'verificationstatus_Verified'],\n",
       "      dtype='object')"
      ]
     },
     "execution_count": 3,
     "metadata": {},
     "output_type": "execute_result"
    }
   ],
   "source": [
    "loans_final = pd.get_dummies(loans_dropna, prefix = ['creditpolicy', 'term', 'grade', 'emplength', \n",
    "                   'homeownership', 'purpose', 'verificationstatus'], \n",
    "                         columns = ['creditpolicy', 'term', 'grade', 'emplength', \n",
    "                   'homeownership', 'purpose', 'verificationstatus'],\n",
    "                            drop_first = 'TRUE')\n",
    "loans_final.columns"
   ]
  },
  {
   "cell_type": "code",
   "execution_count": 4,
   "metadata": {},
   "outputs": [
    {
     "data": {
      "text/plain": [
       "loanamnt                                int64\n",
       "intrate                               float64\n",
       "installment                           float64\n",
       "annualinc                             float64\n",
       "targetloanstatus                        int64\n",
       "dti                                   float64\n",
       "delinq2yrs                            float64\n",
       "inqlast6mths                          float64\n",
       "openacc                               float64\n",
       "revolbal                                int64\n",
       "revolutil                             float64\n",
       "totalacc                              float64\n",
       "creditpolicy_1                          uint8\n",
       "term_ 60 months                         uint8\n",
       "grade_B                                 uint8\n",
       "grade_C                                 uint8\n",
       "grade_D                                 uint8\n",
       "grade_E                                 uint8\n",
       "grade_F                                 uint8\n",
       "grade_G                                 uint8\n",
       "emplength_10+ years                     uint8\n",
       "emplength_2 years                       uint8\n",
       "emplength_3 years                       uint8\n",
       "emplength_4 years                       uint8\n",
       "emplength_5 years                       uint8\n",
       "emplength_6 years                       uint8\n",
       "emplength_7 years                       uint8\n",
       "emplength_8 years                       uint8\n",
       "emplength_9 years                       uint8\n",
       "emplength_< 1 year                      uint8\n",
       "homeownership_NONE                      uint8\n",
       "homeownership_OTHER                     uint8\n",
       "homeownership_OWN                       uint8\n",
       "homeownership_RENT                      uint8\n",
       "purpose_credit_card                     uint8\n",
       "purpose_debt_consolidation              uint8\n",
       "purpose_educational                     uint8\n",
       "purpose_home_improvement                uint8\n",
       "purpose_house                           uint8\n",
       "purpose_major_purchase                  uint8\n",
       "purpose_medical                         uint8\n",
       "purpose_moving                          uint8\n",
       "purpose_other                           uint8\n",
       "purpose_renewable_energy                uint8\n",
       "purpose_small_business                  uint8\n",
       "purpose_vacation                        uint8\n",
       "purpose_wedding                         uint8\n",
       "verificationstatus_Source Verified      uint8\n",
       "verificationstatus_Verified             uint8\n",
       "dtype: object"
      ]
     },
     "execution_count": 4,
     "metadata": {},
     "output_type": "execute_result"
    }
   ],
   "source": [
    "loans_final.dtypes"
   ]
  },
  {
   "cell_type": "code",
   "execution_count": 5,
   "metadata": {},
   "outputs": [],
   "source": [
    "norm_list = ['loanamnt', 'intrate', 'installment', 'annualinc', 'targetloanstatus',\n",
    "       'dti', 'delinq2yrs', 'inqlast6mths', 'openacc', 'revolbal', 'revolutil',\n",
    "       'totalacc', 'creditpolicy_1', 'term_ 60 months', 'grade_B', 'grade_C',\n",
    "       'grade_D', 'grade_E', 'grade_F', 'grade_G', 'emplength_10+ years',\n",
    "       'emplength_2 years', 'emplength_3 years', 'emplength_4 years',\n",
    "       'emplength_5 years', 'emplength_6 years', 'emplength_7 years',\n",
    "       'emplength_8 years', 'emplength_9 years', 'emplength_< 1 year',\n",
    "       'homeownership_NONE', 'homeownership_OTHER', 'homeownership_OWN',\n",
    "       'homeownership_RENT', 'purpose_credit_card',\n",
    "       'purpose_debt_consolidation', 'purpose_educational',\n",
    "       'purpose_home_improvement', 'purpose_house', 'purpose_major_purchase',\n",
    "       'purpose_medical', 'purpose_moving', 'purpose_other',\n",
    "       'purpose_renewable_energy', 'purpose_small_business',\n",
    "       'purpose_vacation', 'purpose_wedding',\n",
    "       'verificationstatus_Source Verified', 'verificationstatus_Verified']\n",
    "new_colnames = []\n",
    "loans_norm = []\n",
    "loans_values = loans_final.values\n",
    "col_names = list(loans_final.columns.values)\n",
    "\n",
    "for i in range(loans_final.shape[1]):\n",
    "    temp = []\n",
    "    if col_names[i] in norm_list:\n",
    "        temp = minmax_scale(loans_values[:,i].astype(float))\n",
    "        temp = np.reshape(temp,(len(temp),1))\n",
    "    else: continue\n",
    "    \n",
    "    new_colnames.append(col_names[i])\n",
    "    if len(loans_norm) == 0:\n",
    "        loans_norm = temp\n",
    "    else:\n",
    "        loans_norm = np.hstack([loans_norm, temp])"
   ]
  },
  {
   "cell_type": "code",
   "execution_count": 6,
   "metadata": {},
   "outputs": [],
   "source": [
    "loans_norm_df = pd.DataFrame(data = loans_norm[0:,0:],\n",
    "                            columns = norm_list)"
   ]
  },
  {
   "cell_type": "code",
   "execution_count": 7,
   "metadata": {},
   "outputs": [
    {
     "data": {
      "text/html": [
       "<div>\n",
       "<style scoped>\n",
       "    .dataframe tbody tr th:only-of-type {\n",
       "        vertical-align: middle;\n",
       "    }\n",
       "\n",
       "    .dataframe tbody tr th {\n",
       "        vertical-align: top;\n",
       "    }\n",
       "\n",
       "    .dataframe thead th {\n",
       "        text-align: right;\n",
       "    }\n",
       "</style>\n",
       "<table border=\"1\" class=\"dataframe\">\n",
       "  <thead>\n",
       "    <tr style=\"text-align: right;\">\n",
       "      <th></th>\n",
       "      <th>loanamnt</th>\n",
       "      <th>intrate</th>\n",
       "      <th>installment</th>\n",
       "      <th>annualinc</th>\n",
       "      <th>targetloanstatus</th>\n",
       "      <th>dti</th>\n",
       "      <th>delinq2yrs</th>\n",
       "      <th>inqlast6mths</th>\n",
       "      <th>openacc</th>\n",
       "      <th>revolbal</th>\n",
       "      <th>...</th>\n",
       "      <th>purpose_major_purchase</th>\n",
       "      <th>purpose_medical</th>\n",
       "      <th>purpose_moving</th>\n",
       "      <th>purpose_other</th>\n",
       "      <th>purpose_renewable_energy</th>\n",
       "      <th>purpose_small_business</th>\n",
       "      <th>purpose_vacation</th>\n",
       "      <th>purpose_wedding</th>\n",
       "      <th>verificationstatus_Source Verified</th>\n",
       "      <th>verificationstatus_Verified</th>\n",
       "    </tr>\n",
       "  </thead>\n",
       "  <tbody>\n",
       "    <tr>\n",
       "      <th>0</th>\n",
       "      <td>0.130435</td>\n",
       "      <td>0.272822</td>\n",
       "      <td>0.114151</td>\n",
       "      <td>0.003685</td>\n",
       "      <td>0.0</td>\n",
       "      <td>0.921974</td>\n",
       "      <td>0.0</td>\n",
       "      <td>0.030303</td>\n",
       "      <td>0.043478</td>\n",
       "      <td>0.011304</td>\n",
       "      <td>...</td>\n",
       "      <td>0.0</td>\n",
       "      <td>0.0</td>\n",
       "      <td>0.0</td>\n",
       "      <td>0.0</td>\n",
       "      <td>0.0</td>\n",
       "      <td>0.0</td>\n",
       "      <td>0.0</td>\n",
       "      <td>0.0</td>\n",
       "      <td>0.0</td>\n",
       "      <td>1.0</td>\n",
       "    </tr>\n",
       "    <tr>\n",
       "      <th>1</th>\n",
       "      <td>0.057971</td>\n",
       "      <td>0.513824</td>\n",
       "      <td>0.034245</td>\n",
       "      <td>0.004685</td>\n",
       "      <td>1.0</td>\n",
       "      <td>0.033344</td>\n",
       "      <td>0.0</td>\n",
       "      <td>0.151515</td>\n",
       "      <td>0.043478</td>\n",
       "      <td>0.001397</td>\n",
       "      <td>...</td>\n",
       "      <td>0.0</td>\n",
       "      <td>0.0</td>\n",
       "      <td>0.0</td>\n",
       "      <td>0.0</td>\n",
       "      <td>0.0</td>\n",
       "      <td>0.0</td>\n",
       "      <td>0.0</td>\n",
       "      <td>0.0</td>\n",
       "      <td>1.0</td>\n",
       "      <td>0.0</td>\n",
       "    </tr>\n",
       "    <tr>\n",
       "      <th>2</th>\n",
       "      <td>0.055072</td>\n",
       "      <td>0.549817</td>\n",
       "      <td>0.053245</td>\n",
       "      <td>0.001727</td>\n",
       "      <td>0.0</td>\n",
       "      <td>0.290764</td>\n",
       "      <td>0.0</td>\n",
       "      <td>0.060606</td>\n",
       "      <td>0.021739</td>\n",
       "      <td>0.002448</td>\n",
       "      <td>...</td>\n",
       "      <td>0.0</td>\n",
       "      <td>0.0</td>\n",
       "      <td>0.0</td>\n",
       "      <td>0.0</td>\n",
       "      <td>0.0</td>\n",
       "      <td>1.0</td>\n",
       "      <td>0.0</td>\n",
       "      <td>0.0</td>\n",
       "      <td>0.0</td>\n",
       "      <td>0.0</td>\n",
       "    </tr>\n",
       "    <tr>\n",
       "      <th>3</th>\n",
       "      <td>0.275362</td>\n",
       "      <td>0.420970</td>\n",
       "      <td>0.250977</td>\n",
       "      <td>0.007886</td>\n",
       "      <td>0.0</td>\n",
       "      <td>0.666889</td>\n",
       "      <td>0.0</td>\n",
       "      <td>0.030303</td>\n",
       "      <td>0.195652</td>\n",
       "      <td>0.004637</td>\n",
       "      <td>...</td>\n",
       "      <td>0.0</td>\n",
       "      <td>0.0</td>\n",
       "      <td>0.0</td>\n",
       "      <td>1.0</td>\n",
       "      <td>0.0</td>\n",
       "      <td>0.0</td>\n",
       "      <td>0.0</td>\n",
       "      <td>0.0</td>\n",
       "      <td>1.0</td>\n",
       "      <td>0.0</td>\n",
       "    </tr>\n",
       "  </tbody>\n",
       "</table>\n",
       "<p>4 rows × 49 columns</p>\n",
       "</div>"
      ],
      "text/plain": [
       "   loanamnt   intrate  installment  annualinc  targetloanstatus       dti  \\\n",
       "0  0.130435  0.272822     0.114151   0.003685               0.0  0.921974   \n",
       "1  0.057971  0.513824     0.034245   0.004685               1.0  0.033344   \n",
       "2  0.055072  0.549817     0.053245   0.001727               0.0  0.290764   \n",
       "3  0.275362  0.420970     0.250977   0.007886               0.0  0.666889   \n",
       "\n",
       "   delinq2yrs  inqlast6mths   openacc  revolbal  ...  purpose_major_purchase  \\\n",
       "0         0.0      0.030303  0.043478  0.011304  ...                     0.0   \n",
       "1         0.0      0.151515  0.043478  0.001397  ...                     0.0   \n",
       "2         0.0      0.060606  0.021739  0.002448  ...                     0.0   \n",
       "3         0.0      0.030303  0.195652  0.004637  ...                     0.0   \n",
       "\n",
       "   purpose_medical  purpose_moving  purpose_other  purpose_renewable_energy  \\\n",
       "0              0.0             0.0            0.0                       0.0   \n",
       "1              0.0             0.0            0.0                       0.0   \n",
       "2              0.0             0.0            0.0                       0.0   \n",
       "3              0.0             0.0            1.0                       0.0   \n",
       "\n",
       "   purpose_small_business  purpose_vacation  purpose_wedding  \\\n",
       "0                     0.0               0.0              0.0   \n",
       "1                     0.0               0.0              0.0   \n",
       "2                     1.0               0.0              0.0   \n",
       "3                     0.0               0.0              0.0   \n",
       "\n",
       "   verificationstatus_Source Verified  verificationstatus_Verified  \n",
       "0                                 0.0                          1.0  \n",
       "1                                 1.0                          0.0  \n",
       "2                                 0.0                          0.0  \n",
       "3                                 1.0                          0.0  \n",
       "\n",
       "[4 rows x 49 columns]"
      ]
     },
     "execution_count": 7,
     "metadata": {},
     "output_type": "execute_result"
    }
   ],
   "source": [
    "loans_norm_df.head(4)"
   ]
  },
  {
   "cell_type": "code",
   "execution_count": 8,
   "metadata": {},
   "outputs": [
    {
     "name": "stderr",
     "output_type": "stream",
     "text": [
      "//anaconda3/lib/python3.7/site-packages/sklearn/utils/validation.py:724: DataConversionWarning: A column-vector y was passed when a 1d array was expected. Please change the shape of y to (n_samples, ), for example using ravel().\n",
      "  y = column_or_1d(y, warn=True)\n"
     ]
    },
    {
     "name": "stdout",
     "output_type": "stream",
     "text": [
      "lenth of original data is  41336\n",
      "length of oversampled data is  49258\n",
      "Number of no subscription in oversampled data 24629\n",
      "Number of subscription 24629\n",
      "Proportion of targetloanstatus == 0 data in oversampled data is  0.5\n",
      "Proportion of targetloanstatus == 1 data in oversampled data is  0.5\n"
     ]
    }
   ],
   "source": [
    "x = loans_norm_df.loc[:, loans_norm_df.columns != 'targetloanstatus']\n",
    "y = loans_norm_df.loc[:, loans_norm_df.columns == 'targetloanstatus']\n",
    "from imblearn.over_sampling import SMOTE\n",
    "os = SMOTE(random_state=0)\n",
    "x_train, x_test, y_train, y_test = train_test_split(x, y, test_size=0.3, random_state=0)\n",
    "columns = x_train.columns\n",
    "os_data_x, os_data_y = os.fit_sample(x_train, y_train)\n",
    "os_data_x_train = pd.DataFrame(data = os_data_x, columns = columns )\n",
    "os_data_y_train = pd.DataFrame(data = os_data_y, columns = ['targetloanstatus'])\n",
    "\n",
    "print(\"lenth of original data is \",len(loans_norm_df))\n",
    "print(\"length of oversampled data is \",len(os_data_x_train))\n",
    "print(\"Number of no subscription in oversampled data\",len(os_data_y_train[os_data_y_train['targetloanstatus']==0]))\n",
    "print(\"Number of subscription\",len(os_data_y_train[os_data_y_train['targetloanstatus']==1]))\n",
    "print(\"Proportion of targetloanstatus == 0 data in oversampled data is \",len(os_data_y_train[os_data_y_train['targetloanstatus']==0])/len(os_data_x_train))\n",
    "print(\"Proportion of targetloanstatus == 1 data in oversampled data is \",len(os_data_y_train[os_data_y_train['targetloanstatus']==1])/len(os_data_x_train))"
   ]
  },
  {
   "cell_type": "code",
   "execution_count": 9,
   "metadata": {},
   "outputs": [
    {
     "name": "stdout",
     "output_type": "stream",
     "text": [
      "Class weight: {0: targetloanstatus    2.0\n",
      "dtype: float64, 1: targetloanstatus    2.0\n",
      "dtype: float64}\n"
     ]
    }
   ],
   "source": [
    "class_weights = {0: len(os_data_y_train)/np.sum(os_data_y_train==0),\n",
    "                1: len(os_data_y_train)/np.sum(os_data_y_train==1)}\n",
    "\n",
    "print(\"Class weight:\", class_weights)"
   ]
  },
  {
   "cell_type": "code",
   "execution_count": 63,
   "metadata": {},
   "outputs": [
    {
     "name": "stdout",
     "output_type": "stream",
     "text": [
      "Model: \"sequential_13\"\n",
      "_________________________________________________________________\n",
      "Layer (type)                 Output Shape              Param #   \n",
      "=================================================================\n",
      "dense_49 (Dense)             (None, 20)                980       \n",
      "_________________________________________________________________\n",
      "dense_50 (Dense)             (None, 10)                210       \n",
      "_________________________________________________________________\n",
      "dense_51 (Dense)             (None, 10)                110       \n",
      "_________________________________________________________________\n",
      "dense_52 (Dense)             (None, 1)                 11        \n",
      "=================================================================\n",
      "Total params: 1,311\n",
      "Trainable params: 1,311\n",
      "Non-trainable params: 0\n",
      "_________________________________________________________________\n"
     ]
    }
   ],
   "source": [
    "model = Sequential()\n",
    "model.add(Dense(20, input_dim = os_data_x_train.shape[1], activation = \"relu\"))\n",
    "model.add(Dense(10, activation = \"relu\"))\n",
    "model.add(Dense(10, activation = \"relu\"))\n",
    "model.add(Dense(1, activation = \"sigmoid\"))\n",
    "model.summary()\n",
    "model.compile(loss = 'binary_crossentropy', optimizer='adam', metrics=['accuracy'])"
   ]
  },
  {
   "cell_type": "code",
   "execution_count": 98,
   "metadata": {},
   "outputs": [
    {
     "name": "stdout",
     "output_type": "stream",
     "text": [
      "Accuracy of logistic regression classifier on test set: 0.83\n",
      "         Predict: 0  Predict: 1\n",
      "True: 0       10286         256\n",
      "Ture: 1        1813          46\n",
      "              precision    recall  f1-score   support\n",
      "\n",
      "         0.0       0.85      0.98      0.91     10542\n",
      "         1.0       0.15      0.02      0.04      1859\n",
      "\n",
      "    accuracy                           0.83     12401\n",
      "   macro avg       0.50      0.50      0.48     12401\n",
      "weighted avg       0.75      0.83      0.78     12401\n",
      "\n"
     ]
    }
   ],
   "source": [
    "from sklearn import metrics\n",
    "y_predict_class = model.predict_classes(x_test)\n",
    "print('Accuracy of logistic regression classifier on test set: {:.2f}'.format(accuracy_score(y_test, y_predict_class)))\n",
    "from sklearn.metrics import confusion_matrix\n",
    "confusion_matrix = confusion_matrix(y_test, y_predict_class)\n",
    "cm = pd.DataFrame(confusion_matrix, index = ['True: 0','Ture: 1'], columns = ['Predict: 0','Predict: 1'])\n",
    "print(cm)\n",
    "from sklearn.metrics import classification_report\n",
    "print(classification_report(y_test, y_predict_class))"
   ]
  },
  {
   "cell_type": "code",
   "execution_count": 66,
   "metadata": {},
   "outputs": [
    {
     "data": {
      "image/png": "[encoded data removed]",
      "text/plain": [
       "<Figure size 432x288 with 1 Axes>"
      ]
     },
     "metadata": {
      "needs_background": "light"
     },
     "output_type": "display_data"
    }
   ],
   "source": [
    "from sklearn.metrics import roc_auc_score\n",
    "from sklearn.metrics import roc_curve\n",
    "import matplotlib.pyplot as plt \n",
    "logit_roc_auc = roc_auc_score(y_test, model.predict_classes(x_test))\n",
    "fpr, tpr, thresholds = roc_curve(y_test, model.predict_classes(x_test)[:,0])\n",
    "plt.figure()\n",
    "plt.plot(fpr, tpr, label='Logistic Regression (area = %0.2f)' % logit_roc_auc)\n",
    "plt.plot([0, 1], [0, 1],'r--')\n",
    "plt.xlim([0.0, 1.0])\n",
    "plt.ylim([0.0, 1.05])\n",
    "plt.xlabel('False Positive Rate')\n",
    "plt.ylabel('True Positive Rate')\n",
    "plt.title('Receiver operating characteristic')\n",
    "plt.legend(loc=\"lower right\")\n",
    "plt.savefig('Log_ROC')\n",
    "plt.show()"
   ]
  },
  {
   "cell_type": "code",
   "execution_count": 30,
   "metadata": {},
   "outputs": [],
   "source": [
    "os_data_x_train_dropvar = os_data_x_train[['intrate',  'annualinc', 'inqlast6mths', 'revolbal', 'revolutil',\n",
    "                                                    'creditpolicy_1',  \n",
    "                                                    'grade_B', 'grade_C','grade_D', 'grade_E', 'grade_F', 'grade_G', \n",
    "                                                    'purpose_credit_card','purpose_debt_consolidation', \n",
    "                                                    'purpose_educational','purpose_home_improvement', 'purpose_house',\n",
    "                                                    'purpose_major_purchase', 'purpose_medical', 'purpose_moving', \n",
    "                                                    'purpose_other','purpose_renewable_energy', \n",
    "                                                    'purpose_small_business','purpose_vacation', 'purpose_wedding']]"
   ]
  },
  {
   "cell_type": "code",
   "execution_count": 34,
   "metadata": {},
   "outputs": [],
   "source": [
    "x_test_dropvar = x_test[['intrate',  'annualinc', 'inqlast6mths', 'revolbal', 'revolutil',\n",
    "                                                    'creditpolicy_1',  \n",
    "                                                    'grade_B', 'grade_C','grade_D', 'grade_E', 'grade_F', 'grade_G', \n",
    "                                                    'purpose_credit_card','purpose_debt_consolidation', \n",
    "                                                    'purpose_educational','purpose_home_improvement', 'purpose_house',\n",
    "                                                    'purpose_major_purchase', 'purpose_medical', 'purpose_moving', \n",
    "                                                    'purpose_other','purpose_renewable_energy', \n",
    "                                                    'purpose_small_business','purpose_vacation', 'purpose_wedding']]"
   ]
  },
  {
   "cell_type": "code",
   "execution_count": 49,
   "metadata": {},
   "outputs": [
    {
     "name": "stdout",
     "output_type": "stream",
     "text": [
      "Model: \"sequential_10\"\n",
      "_________________________________________________________________\n",
      "Layer (type)                 Output Shape              Param #   \n",
      "=================================================================\n",
      "dense_37 (Dense)             (None, 20)                520       \n",
      "_________________________________________________________________\n",
      "dense_38 (Dense)             (None, 10)                210       \n",
      "_________________________________________________________________\n",
      "dense_39 (Dense)             (None, 10)                110       \n",
      "_________________________________________________________________\n",
      "dense_40 (Dense)             (None, 1)                 11        \n",
      "=================================================================\n",
      "Total params: 851\n",
      "Trainable params: 851\n",
      "Non-trainable params: 0\n",
      "_________________________________________________________________\n"
     ]
    }
   ],
   "source": [
    "model = Sequential()\n",
    "model.add(Dense(20, input_dim = os_data_x_train_dropvar.shape[1], activation = \"relu\"))\n",
    "model.add(Dense(10, activation = \"relu\"))\n",
    "model.add(Dense(10, activation = \"relu\"))\n",
    "model.add(Dense(1, activation = \"sigmoid\"))\n",
    "model.summary()\n",
    "model.compile(loss = 'binary_crossentropy', optimizer='adam', metrics=['accuracy'])"
   ]
  },
  {
   "cell_type": "code",
   "execution_count": 99,
   "metadata": {},
   "outputs": [
    {
     "ename": "ValueError",
     "evalue": "Error when checking input: expected dense_49_input to have shape (48,) but got array with shape (25,)",
     "output_type": "error",
     "traceback": [
      "\u001b[0;31m---------------------------------------------------------------------------\u001b[0m",
      "\u001b[0;31mValueError\u001b[0m                                Traceback (most recent call last)",
      "\u001b[0;32m<ipython-input-99-46fe9ae54872>\u001b[0m in \u001b[0;36m<module>\u001b[0;34m\u001b[0m\n\u001b[1;32m      1\u001b[0m \u001b[0;32mfrom\u001b[0m \u001b[0msklearn\u001b[0m \u001b[0;32mimport\u001b[0m \u001b[0mmetrics\u001b[0m\u001b[0;34m\u001b[0m\u001b[0;34m\u001b[0m\u001b[0m\n\u001b[0;32m----> 2\u001b[0;31m \u001b[0my_predict_class\u001b[0m \u001b[0;34m=\u001b[0m \u001b[0mmodel\u001b[0m\u001b[0;34m.\u001b[0m\u001b[0mpredict_classes\u001b[0m\u001b[0;34m(\u001b[0m\u001b[0mx_test_dropvar\u001b[0m\u001b[0;34m)\u001b[0m\u001b[0;34m\u001b[0m\u001b[0;34m\u001b[0m\u001b[0m\n\u001b[0m\u001b[1;32m      3\u001b[0m \u001b[0mprint\u001b[0m\u001b[0;34m(\u001b[0m\u001b[0;34m'Accuracy of logistic regression classifier on test set: {:.2f}'\u001b[0m\u001b[0;34m.\u001b[0m\u001b[0mformat\u001b[0m\u001b[0;34m(\u001b[0m\u001b[0maccuracy_score\u001b[0m\u001b[0;34m(\u001b[0m\u001b[0my_test\u001b[0m\u001b[0;34m,\u001b[0m \u001b[0my_predict_class\u001b[0m\u001b[0;34m)\u001b[0m\u001b[0;34m)\u001b[0m\u001b[0;34m)\u001b[0m\u001b[0;34m\u001b[0m\u001b[0;34m\u001b[0m\u001b[0m\n\u001b[1;32m      4\u001b[0m \u001b[0;32mfrom\u001b[0m \u001b[0msklearn\u001b[0m\u001b[0;34m.\u001b[0m\u001b[0mmetrics\u001b[0m \u001b[0;32mimport\u001b[0m \u001b[0mconfusion_matrix\u001b[0m\u001b[0;34m\u001b[0m\u001b[0;34m\u001b[0m\u001b[0m\n\u001b[1;32m      5\u001b[0m \u001b[0mconfusion_matrix\u001b[0m \u001b[0;34m=\u001b[0m \u001b[0mconfusion_matrix\u001b[0m\u001b[0;34m(\u001b[0m\u001b[0my_test\u001b[0m\u001b[0;34m,\u001b[0m \u001b[0my_predict_class\u001b[0m\u001b[0;34m)\u001b[0m\u001b[0;34m\u001b[0m\u001b[0;34m\u001b[0m\u001b[0m\n",
      "\u001b[0;32m//anaconda3/lib/python3.7/site-packages/keras/engine/sequential.py\u001b[0m in \u001b[0;36mpredict_classes\u001b[0;34m(self, x, batch_size, verbose)\u001b[0m\n\u001b[1;32m    266\u001b[0m             \u001b[0mA\u001b[0m \u001b[0mnumpy\u001b[0m \u001b[0marray\u001b[0m \u001b[0mof\u001b[0m \u001b[0;32mclass\u001b[0m \u001b[0mpredictions\u001b[0m\u001b[0;34m.\u001b[0m\u001b[0;34m\u001b[0m\u001b[0;34m\u001b[0m\u001b[0m\n\u001b[1;32m    267\u001b[0m         \"\"\"\n\u001b[0;32m--> 268\u001b[0;31m         \u001b[0mproba\u001b[0m \u001b[0;34m=\u001b[0m \u001b[0mself\u001b[0m\u001b[0;34m.\u001b[0m\u001b[0mpredict\u001b[0m\u001b[0;34m(\u001b[0m\u001b[0mx\u001b[0m\u001b[0;34m,\u001b[0m \u001b[0mbatch_size\u001b[0m\u001b[0;34m=\u001b[0m\u001b[0mbatch_size\u001b[0m\u001b[0;34m,\u001b[0m \u001b[0mverbose\u001b[0m\u001b[0;34m=\u001b[0m\u001b[0mverbose\u001b[0m\u001b[0;34m)\u001b[0m\u001b[0;34m\u001b[0m\u001b[0;34m\u001b[0m\u001b[0m\n\u001b[0m\u001b[1;32m    269\u001b[0m         \u001b[0;32mif\u001b[0m \u001b[0mproba\u001b[0m\u001b[0;34m.\u001b[0m\u001b[0mshape\u001b[0m\u001b[0;34m[\u001b[0m\u001b[0;34m-\u001b[0m\u001b[0;36m1\u001b[0m\u001b[0;34m]\u001b[0m \u001b[0;34m>\u001b[0m \u001b[0;36m1\u001b[0m\u001b[0;34m:\u001b[0m\u001b[0;34m\u001b[0m\u001b[0;34m\u001b[0m\u001b[0m\n\u001b[1;32m    270\u001b[0m             \u001b[0;32mreturn\u001b[0m \u001b[0mproba\u001b[0m\u001b[0;34m.\u001b[0m\u001b[0margmax\u001b[0m\u001b[0;34m(\u001b[0m\u001b[0maxis\u001b[0m\u001b[0;34m=\u001b[0m\u001b[0;34m-\u001b[0m\u001b[0;36m1\u001b[0m\u001b[0;34m)\u001b[0m\u001b[0;34m\u001b[0m\u001b[0;34m\u001b[0m\u001b[0m\n",
      "\u001b[0;32m//anaconda3/lib/python3.7/site-packages/keras/engine/training.py\u001b[0m in \u001b[0;36mpredict\u001b[0;34m(self, x, batch_size, verbose, steps, callbacks, max_queue_size, workers, use_multiprocessing)\u001b[0m\n\u001b[1;32m   1378\u001b[0m \u001b[0;34m\u001b[0m\u001b[0m\n\u001b[1;32m   1379\u001b[0m         \u001b[0;31m# Case 2: Symbolic tensors or Numpy array-like.\u001b[0m\u001b[0;34m\u001b[0m\u001b[0;34m\u001b[0m\u001b[0;34m\u001b[0m\u001b[0m\n\u001b[0;32m-> 1380\u001b[0;31m         \u001b[0mx\u001b[0m\u001b[0;34m,\u001b[0m \u001b[0m_\u001b[0m\u001b[0;34m,\u001b[0m \u001b[0m_\u001b[0m \u001b[0;34m=\u001b[0m \u001b[0mself\u001b[0m\u001b[0;34m.\u001b[0m\u001b[0m_standardize_user_data\u001b[0m\u001b[0;34m(\u001b[0m\u001b[0mx\u001b[0m\u001b[0;34m)\u001b[0m\u001b[0;34m\u001b[0m\u001b[0;34m\u001b[0m\u001b[0m\n\u001b[0m\u001b[1;32m   1381\u001b[0m         \u001b[0;32mif\u001b[0m \u001b[0mself\u001b[0m\u001b[0;34m.\u001b[0m\u001b[0mstateful\u001b[0m\u001b[0;34m:\u001b[0m\u001b[0;34m\u001b[0m\u001b[0;34m\u001b[0m\u001b[0m\n\u001b[1;32m   1382\u001b[0m             \u001b[0;32mif\u001b[0m \u001b[0mx\u001b[0m\u001b[0;34m[\u001b[0m\u001b[0;36m0\u001b[0m\u001b[0;34m]\u001b[0m\u001b[0;34m.\u001b[0m\u001b[0mshape\u001b[0m\u001b[0;34m[\u001b[0m\u001b[0;36m0\u001b[0m\u001b[0;34m]\u001b[0m \u001b[0;34m>\u001b[0m \u001b[0mbatch_size\u001b[0m \u001b[0;32mand\u001b[0m \u001b[0mx\u001b[0m\u001b[0;34m[\u001b[0m\u001b[0;36m0\u001b[0m\u001b[0;34m]\u001b[0m\u001b[0;34m.\u001b[0m\u001b[0mshape\u001b[0m\u001b[0;34m[\u001b[0m\u001b[0;36m0\u001b[0m\u001b[0;34m]\u001b[0m \u001b[0;34m%\u001b[0m \u001b[0mbatch_size\u001b[0m \u001b[0;34m!=\u001b[0m \u001b[0;36m0\u001b[0m\u001b[0;34m:\u001b[0m\u001b[0;34m\u001b[0m\u001b[0;34m\u001b[0m\u001b[0m\n",
      "\u001b[0;32m//anaconda3/lib/python3.7/site-packages/keras/engine/training.py\u001b[0m in \u001b[0;36m_standardize_user_data\u001b[0;34m(self, x, y, sample_weight, class_weight, check_array_lengths, batch_size)\u001b[0m\n\u001b[1;32m    755\u001b[0m             \u001b[0mfeed_input_shapes\u001b[0m\u001b[0;34m,\u001b[0m\u001b[0;34m\u001b[0m\u001b[0;34m\u001b[0m\u001b[0m\n\u001b[1;32m    756\u001b[0m             \u001b[0mcheck_batch_axis\u001b[0m\u001b[0;34m=\u001b[0m\u001b[0;32mFalse\u001b[0m\u001b[0;34m,\u001b[0m  \u001b[0;31m# Don't enforce the batch size.\u001b[0m\u001b[0;34m\u001b[0m\u001b[0;34m\u001b[0m\u001b[0m\n\u001b[0;32m--> 757\u001b[0;31m             exception_prefix='input')\n\u001b[0m\u001b[1;32m    758\u001b[0m \u001b[0;34m\u001b[0m\u001b[0m\n\u001b[1;32m    759\u001b[0m         \u001b[0;32mif\u001b[0m \u001b[0my\u001b[0m \u001b[0;32mis\u001b[0m \u001b[0;32mnot\u001b[0m \u001b[0;32mNone\u001b[0m\u001b[0;34m:\u001b[0m\u001b[0;34m\u001b[0m\u001b[0;34m\u001b[0m\u001b[0m\n",
      "\u001b[0;32m//anaconda3/lib/python3.7/site-packages/keras/engine/training_utils.py\u001b[0m in \u001b[0;36mstandardize_input_data\u001b[0;34m(data, names, shapes, check_batch_axis, exception_prefix)\u001b[0m\n\u001b[1;32m    139\u001b[0m                             \u001b[0;34m': expected '\u001b[0m \u001b[0;34m+\u001b[0m \u001b[0mnames\u001b[0m\u001b[0;34m[\u001b[0m\u001b[0mi\u001b[0m\u001b[0;34m]\u001b[0m \u001b[0;34m+\u001b[0m \u001b[0;34m' to have shape '\u001b[0m \u001b[0;34m+\u001b[0m\u001b[0;34m\u001b[0m\u001b[0;34m\u001b[0m\u001b[0m\n\u001b[1;32m    140\u001b[0m                             \u001b[0mstr\u001b[0m\u001b[0;34m(\u001b[0m\u001b[0mshape\u001b[0m\u001b[0;34m)\u001b[0m \u001b[0;34m+\u001b[0m \u001b[0;34m' but got array with shape '\u001b[0m \u001b[0;34m+\u001b[0m\u001b[0;34m\u001b[0m\u001b[0;34m\u001b[0m\u001b[0m\n\u001b[0;32m--> 141\u001b[0;31m                             str(data_shape))\n\u001b[0m\u001b[1;32m    142\u001b[0m     \u001b[0;32mreturn\u001b[0m \u001b[0mdata\u001b[0m\u001b[0;34m\u001b[0m\u001b[0;34m\u001b[0m\u001b[0m\n\u001b[1;32m    143\u001b[0m \u001b[0;34m\u001b[0m\u001b[0m\n",
      "\u001b[0;31mValueError\u001b[0m: Error when checking input: expected dense_49_input to have shape (48,) but got array with shape (25,)"
     ]
    }
   ],
   "source": [
    "from sklearn import metrics\n",
    "y_predict_class = model.predict_classes(x_test_dropvar)\n",
    "print('Accuracy of logistic regression classifier on test set: {:.2f}'.format(accuracy_score(y_test, y_predict_class)))\n",
    "from sklearn.metrics import confusion_matrix\n",
    "confusion_matrix = confusion_matrix(y_test, y_predict_class)\n",
    "cm = pd.DataFrame(confusion_matrix, index = ['True: 0','Ture: 1'], columns = ['Predict: 0','Predict: 1'])\n",
    "print(cm)\n",
    "from sklearn.metrics import classification_report\n",
    "print(classification_report(y_test, y_predict_class))"
   ]
  },
  {
   "cell_type": "code",
   "execution_count": 51,
   "metadata": {},
   "outputs": [
    {
     "name": "stdout",
     "output_type": "stream",
     "text": [
      "Accuracy:  0.8012257076042255\n",
      "F1:  0.1218382614891343\n",
      "Recall:  0.09198493813878429\n",
      "Precision:  0.18037974683544303\n"
     ]
    }
   ],
   "source": [
    "print('Accuracy: ',accuracy_score(y_test, y_predict_class))\n",
    "print('F1: ',f1_score(y_test, y_predict_class))\n",
    "print('Recall: ',recall_score(y_test, y_predict_class))\n",
    "print('Precision: ',precision_score(y_test, y_predict_class))"
   ]
  },
  {
   "cell_type": "code",
   "execution_count": 53,
   "metadata": {},
   "outputs": [
    {
     "data": {
      "image/png": "[encoded data removed]",
      "text/plain": [
       "<Figure size 432x288 with 1 Axes>"
      ]
     },
     "metadata": {
      "needs_background": "light"
     },
     "output_type": "display_data"
    }
   ],
   "source": [
    "from sklearn.metrics import roc_auc_score\n",
    "from sklearn.metrics import roc_curve\n",
    "import matplotlib.pyplot as plt \n",
    "logit_roc_auc = roc_auc_score(y_test, model.predict_classes(x_test_dropvar))\n",
    "fpr, tpr, thresholds = roc_curve(y_test, model.predict_classes(x_test_dropvar)[:,0])\n",
    "plt.figure()\n",
    "plt.plot(fpr, tpr, label='Logistic Regression (area = %0.2f)' % logit_roc_auc)\n",
    "plt.plot([0, 1], [0, 1],'r--')\n",
    "plt.xlim([0.0, 1.0])\n",
    "plt.ylim([0.0, 1.05])\n",
    "plt.xlabel('False Positive Rate')\n",
    "plt.ylabel('True Positive Rate')\n",
    "plt.title('Receiver operating characteristic')\n",
    "plt.legend(loc=\"lower right\")\n",
    "plt.savefig('Log_ROC')\n",
    "plt.show()"
   ]
  },
  {
   "cell_type": "code",
   "execution_count": null,
   "metadata": {},
   "outputs": [],
   "source": []
  }
 ],
 "metadata": {
  "kernelspec": {
   "display_name": "Python 3",
   "language": "python",
   "name": "python3"
  },
  "language_info": {
   "codemirror_mode": {
    "name": "ipython",
    "version": 3
   },
   "file_extension": ".py",
   "mimetype": "text/x-python",
   "name": "python",
   "nbconvert_exporter": "python",
   "pygments_lexer": "ipython3",
   "version": "3.7.3"
  }
 },
 "nbformat": 4,
 "nbformat_minor": 2
}
